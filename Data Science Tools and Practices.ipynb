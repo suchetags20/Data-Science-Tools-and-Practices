{
  "metadata": {
    "kernelspec": {
      "name": "python",
      "display_name": "Python (Pyodide)",
      "language": "python"
    },
    "language_info": {
      "codemirror_mode": {
        "name": "python",
        "version": 3
      },
      "file_extension": ".py",
      "mimetype": "text/x-python",
      "name": "python",
      "nbconvert_exporter": "python",
      "pygments_lexer": "ipython3",
      "version": "3.8"
    }
  },
  "nbformat_minor": 4,
  "nbformat": 4,
  "cells": [
    {
      "cell_type": "markdown",
      "source": "# Data Science Tools and Practices",
      "metadata": {}
    },
    {
      "cell_type": "markdown",
      "source": "## Introduction\n“This notebook covers important tools and practices in data science.”",
      "metadata": {}
    },
    {
      "cell_type": "markdown",
      "source": "## Data Science Languages\nPython,\nR,\nSQL",
      "metadata": {}
    },
    {
      "cell_type": "markdown",
      "source": "## Data Science Libraries\nPandas,\nNumPy,\nScikit-learn",
      "metadata": {}
    },
    {
      "cell_type": "markdown",
      "source": "## Data Science Tools\n| Tool             | Purpose                    |\n|------------------|----------------------------|\n| Jupyter Notebook | Writing code and documents |\n| RStudio          | Statistical analysis       |\n",
      "metadata": {}
    },
    {
      "cell_type": "markdown",
      "source": "## Examples of Arithmetic Expressions",
      "metadata": {}
    },
    {
      "cell_type": "code",
      "source": "result = (3 * 4) + 5\nresult\n",
      "metadata": {
        "trusted": true
      },
      "outputs": [
        {
          "execution_count": 4,
          "output_type": "execute_result",
          "data": {
            "text/plain": "17"
          },
          "metadata": {}
        }
      ],
      "execution_count": 4
    },
    {
      "cell_type": "code",
      "source": "minutes = 120\nhours = minutes / 60\nhours\n",
      "metadata": {
        "trusted": true
      },
      "outputs": [
        {
          "execution_count": 5,
          "output_type": "execute_result",
          "data": {
            "text/plain": "2.0"
          },
          "metadata": {}
        }
      ],
      "execution_count": 5
    },
    {
      "cell_type": "markdown",
      "source": "## Objectives\nLearn data science tools,\nUnderstand data science languages,\nPractice arithmetic operations",
      "metadata": {}
    },
    {
      "cell_type": "markdown",
      "source": "## Author\nSucheta G S",
      "metadata": {}
    }
  ]
}